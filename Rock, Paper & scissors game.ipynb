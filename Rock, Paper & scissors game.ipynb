{
 "cells": [
  {
   "cell_type": "code",
   "execution_count": 2,
   "id": "c626f482",
   "metadata": {},
   "outputs": [],
   "source": [
    "import random\n",
    "import time\n",
    "\n",
    "\n",
    "g_choices={\"R\":\"Rock\",\"P\":\"Paper\",\"S\":\"Scissors\"}\n",
    "g_list=list(g_choices.keys())\n",
    "\n",
    "while True:\n",
    "    user=(input(\"User's throw: \\nR for Rock \\nP for Paper \\nS for Scissors\\n\\nuser's turn: \")).upper()\n",
    "    if user in g_list:\n",
    "        print(f\"User chose {g_choices[user]}\")\n",
    "        comp=random.choice(g_list)\n",
    "        print()\n",
    "        comp=random.choice(g_list)\n",
    "        print()\n",
    "        print(\"Now it's computer's turn\",end=\"\")\n",
    "        time.sleep(1)\n",
    "        print(\".\",end=\"\")\n",
    "        time.sleep(1)\n",
    "        print(\".\",end=\"\")\n",
    "        time.sleep(1)\n",
    "        print(\".\")\n",
    "        time.sleep(1)\n",
    "        print(f\"Computer chose {g_choices[comp]}\")\n",
    "        print()\n",
    "        if user!=comp:\n",
    "            if (user<comp and (comp!=\"S\" and user!=\"P\")) or (user==\"S\" and comp==\"P\"):\n",
    "                print(\"User Wins!\")\n",
    "            else:\n",
    "                print(\"Computer Wins!\")\n",
    "        else:\n",
    "            print(\"It's a Draw!\")\n",
    "    else:\n",
    "        print(\"Enter a Valid Choice\")\n",
    "        continue\n",
    "    while True:\n",
    "        select=input(\"Do you Wanna Play again?\\nY/N: \").upper()\n",
    "        print()\n",
    "        if select==\"N\":\n",
    "            f=1\n",
    "            break\n",
    "        elif select!=\"Y\":\n",
    "            print(\"Select a valid option\")\n",
    "            continue\n",
    "        else:\n",
    "            f=0\n",
    "            break\n",
    "    if f==1:\n",
    "        break\n",
    "    else:\n",
    "        continue\n",
    "    \n",
    "            \n",
    "\n"
   ]
  },
  {
   "cell_type": "code",
   "execution_count": null,
   "id": "97156727",
   "metadata": {},
   "outputs": [],
   "source": []
  }
 ],
 "metadata": {
  "kernelspec": {
   "display_name": "Python 3 (ipykernel)",
   "language": "python",
   "name": "python3"
  },
  "language_info": {
   "codemirror_mode": {
    "name": "ipython",
    "version": 3
   },
   "file_extension": ".py",
   "mimetype": "text/x-python",
   "name": "python",
   "nbconvert_exporter": "python",
   "pygments_lexer": "ipython3",
   "version": "3.11.5"
  }
 },
 "nbformat": 4,
 "nbformat_minor": 5
}
